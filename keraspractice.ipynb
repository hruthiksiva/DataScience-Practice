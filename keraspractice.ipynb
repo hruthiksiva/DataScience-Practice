{
  "nbformat": 4,
  "nbformat_minor": 0,
  "metadata": {
    "colab": {
      "name": "keraspractice.ipynb",
      "provenance": [],
      "authorship_tag": "ABX9TyPuXDu0svKW7EAO/vEmG0xw",
      "include_colab_link": true
    },
    "kernelspec": {
      "name": "python3",
      "display_name": "Python 3"
    },
    "language_info": {
      "name": "python"
    }
  },
  "cells": [
    {
      "cell_type": "markdown",
      "metadata": {
        "id": "view-in-github",
        "colab_type": "text"
      },
      "source": [
        "<a href=\"https://colab.research.google.com/github/hruthiksiva/DataScience-Practice/blob/main/keraspractice.ipynb\" target=\"_parent\"><img src=\"https://colab.research.google.com/assets/colab-badge.svg\" alt=\"Open In Colab\"/></a>"
      ]
    },
    {
      "cell_type": "code",
      "metadata": {
        "id": "MKdqpw6xlvPa"
      },
      "source": [
        "import numpy as np\n",
        "from random import randint\n",
        "from sklearn.utils import shuffle\n",
        "from sklearn.preprocessing import MinMaxScaler"
      ],
      "execution_count": 2,
      "outputs": []
    },
    {
      "cell_type": "code",
      "metadata": {
        "id": "AUXXMMzQmYG9"
      },
      "source": [
        "train_labels=[]\n",
        "train_samples=[]"
      ],
      "execution_count": 3,
      "outputs": []
    },
    {
      "cell_type": "code",
      "metadata": {
        "id": "83z2JOyvm0zb"
      },
      "source": [
        "for i in range(50):\n",
        "  r_younger=randint(13,64)\n",
        "  train_samples.append(r_younger)\n",
        "  train_labels.append(1)\n",
        "\n",
        "  r_older=randint(65,100)\n",
        "  train_samples.append(r_older)\n",
        "  train_labels.append(0)\n",
        "\n",
        "for i in range(1000):\n",
        "  r_younger=randint(13,64)\n",
        "  train_samples.append(r_younger)\n",
        "  train_labels.append(0)\n",
        "\n",
        "  r_older=randint(65,100)\n",
        "  train_samples.append(r_older)\n",
        "  train_labels.append(1)"
      ],
      "execution_count": 5,
      "outputs": []
    },
    {
      "cell_type": "code",
      "metadata": {
        "id": "c5d1rJiBn11x"
      },
      "source": [
        "for i in train_samples:\n",
        "  print(i)"
      ],
      "execution_count": null,
      "outputs": []
    },
    {
      "cell_type": "code",
      "metadata": {
        "id": "84W7qjBgn-KX"
      },
      "source": [
        "train_labels=np.array(train_labels)\n",
        "train_samples=np.array(train_samples)\n",
        "train_labels, train_samples=shuffle(train_labels,train_samples)"
      ],
      "execution_count": 7,
      "outputs": []
    },
    {
      "cell_type": "code",
      "metadata": {
        "id": "JRKEg_wFoXcy"
      },
      "source": [
        "scaler = MinMaxScaler(feature_range=(0,1))\n",
        "scaled_train_samples =scaler.fit_transform(train_samples.reshape(-1,1))"
      ],
      "execution_count": 8,
      "outputs": []
    },
    {
      "cell_type": "code",
      "metadata": {
        "id": "IeW4MinPoqvh"
      },
      "source": [
        "for i in scaled_train_samples:\n",
        "  print(i)"
      ],
      "execution_count": null,
      "outputs": []
    },
    {
      "cell_type": "code",
      "metadata": {
        "id": "yLUEUeAMouWY"
      },
      "source": [
        "import tensorflow as tf\n",
        "from tensorflow import keras\n",
        "from tensorflow.keras.models import Sequential\n",
        "from tensorflow.keras.layers import Activation, Dense\n",
        "from tensorflow.keras.optimizers import Adam\n",
        "from tensorflow.keras.metrics import categorical_crossentropy"
      ],
      "execution_count": 13,
      "outputs": []
    },
    {
      "cell_type": "code",
      "metadata": {
        "id": "Me4j8do4piam"
      },
      "source": [
        "model = Sequential([\n",
        "        Dense(units=16,input_shape=(1,),activation='relu'),\n",
        "        Dense(units=32,activation='relu'),\n",
        "        Dense(units=2,activation='softmax')\n",
        "])"
      ],
      "execution_count": 16,
      "outputs": []
    },
    {
      "cell_type": "code",
      "metadata": {
        "colab": {
          "base_uri": "https://localhost:8080/"
        },
        "id": "8BTKH_T0qjQ5",
        "outputId": "95af2a50-acbc-4a2e-aece-2901191156cb"
      },
      "source": [
        "model.summary()"
      ],
      "execution_count": 17,
      "outputs": [
        {
          "output_type": "stream",
          "text": [
            "Model: \"sequential\"\n",
            "_________________________________________________________________\n",
            "Layer (type)                 Output Shape              Param #   \n",
            "=================================================================\n",
            "dense (Dense)                (None, 16)                32        \n",
            "_________________________________________________________________\n",
            "dense_1 (Dense)              (None, 32)                544       \n",
            "_________________________________________________________________\n",
            "dense_2 (Dense)              (None, 2)                 66        \n",
            "=================================================================\n",
            "Total params: 642\n",
            "Trainable params: 642\n",
            "Non-trainable params: 0\n",
            "_________________________________________________________________\n"
          ],
          "name": "stdout"
        }
      ]
    },
    {
      "cell_type": "code",
      "metadata": {
        "id": "7nJmB4Fsqw6M"
      },
      "source": [
        "model.compile(optimizer=Adam(learning_rate=0.0001),loss='sparse_categorical_crossentropy',metrics=['accuracy'])"
      ],
      "execution_count": 18,
      "outputs": []
    },
    {
      "cell_type": "code",
      "metadata": {
        "colab": {
          "base_uri": "https://localhost:8080/"
        },
        "id": "-lqn-CLprNs6",
        "outputId": "a8c8319e-2604-458a-a4b8-6c1332b73a0f"
      },
      "source": [
        "model.fit(x=scaled_train_samples,y=train_labels\n",
        "          ,validation_split=0.1,batch_size=10,epochs=30,shuffle=True,verbose=2)\n",
        "#validation_data=valid_set\n"
      ],
      "execution_count": 20,
      "outputs": [
        {
          "output_type": "stream",
          "text": [
            "Epoch 1/30\n",
            "189/189 - 0s - loss: 0.4927 - accuracy: 0.8079 - val_loss: 0.4653 - val_accuracy: 0.8341\n",
            "Epoch 2/30\n",
            "189/189 - 0s - loss: 0.4656 - accuracy: 0.8354 - val_loss: 0.4397 - val_accuracy: 0.8673\n",
            "Epoch 3/30\n",
            "189/189 - 0s - loss: 0.4399 - accuracy: 0.8587 - val_loss: 0.4147 - val_accuracy: 0.8768\n",
            "Epoch 4/30\n",
            "189/189 - 0s - loss: 0.4155 - accuracy: 0.8677 - val_loss: 0.3921 - val_accuracy: 0.8863\n",
            "Epoch 5/30\n",
            "189/189 - 0s - loss: 0.3934 - accuracy: 0.8857 - val_loss: 0.3706 - val_accuracy: 0.8910\n",
            "Epoch 6/30\n",
            "189/189 - 0s - loss: 0.3731 - accuracy: 0.8952 - val_loss: 0.3516 - val_accuracy: 0.8957\n",
            "Epoch 7/30\n",
            "189/189 - 0s - loss: 0.3555 - accuracy: 0.9005 - val_loss: 0.3349 - val_accuracy: 0.9052\n",
            "Epoch 8/30\n",
            "189/189 - 0s - loss: 0.3401 - accuracy: 0.9069 - val_loss: 0.3204 - val_accuracy: 0.9052\n",
            "Epoch 9/30\n",
            "189/189 - 0s - loss: 0.3273 - accuracy: 0.9143 - val_loss: 0.3081 - val_accuracy: 0.9052\n",
            "Epoch 10/30\n",
            "189/189 - 0s - loss: 0.3166 - accuracy: 0.9212 - val_loss: 0.2978 - val_accuracy: 0.9147\n",
            "Epoch 11/30\n",
            "189/189 - 0s - loss: 0.3076 - accuracy: 0.9196 - val_loss: 0.2898 - val_accuracy: 0.9242\n",
            "Epoch 12/30\n",
            "189/189 - 0s - loss: 0.2999 - accuracy: 0.9222 - val_loss: 0.2836 - val_accuracy: 0.9384\n",
            "Epoch 13/30\n",
            "189/189 - 0s - loss: 0.2936 - accuracy: 0.9286 - val_loss: 0.2763 - val_accuracy: 0.9242\n",
            "Epoch 14/30\n",
            "189/189 - 0s - loss: 0.2884 - accuracy: 0.9328 - val_loss: 0.2710 - val_accuracy: 0.9384\n",
            "Epoch 15/30\n",
            "189/189 - 0s - loss: 0.2839 - accuracy: 0.9328 - val_loss: 0.2666 - val_accuracy: 0.9384\n",
            "Epoch 16/30\n",
            "189/189 - 0s - loss: 0.2802 - accuracy: 0.9328 - val_loss: 0.2626 - val_accuracy: 0.9384\n",
            "Epoch 17/30\n",
            "189/189 - 0s - loss: 0.2769 - accuracy: 0.9349 - val_loss: 0.2600 - val_accuracy: 0.9479\n",
            "Epoch 18/30\n",
            "189/189 - 0s - loss: 0.2744 - accuracy: 0.9360 - val_loss: 0.2568 - val_accuracy: 0.9384\n",
            "Epoch 19/30\n",
            "189/189 - 0s - loss: 0.2720 - accuracy: 0.9386 - val_loss: 0.2545 - val_accuracy: 0.9384\n",
            "Epoch 20/30\n",
            "189/189 - 0s - loss: 0.2700 - accuracy: 0.9376 - val_loss: 0.2521 - val_accuracy: 0.9384\n",
            "Epoch 21/30\n",
            "189/189 - 0s - loss: 0.2684 - accuracy: 0.9386 - val_loss: 0.2505 - val_accuracy: 0.9384\n",
            "Epoch 22/30\n",
            "189/189 - 0s - loss: 0.2668 - accuracy: 0.9386 - val_loss: 0.2490 - val_accuracy: 0.9479\n",
            "Epoch 23/30\n",
            "189/189 - 0s - loss: 0.2655 - accuracy: 0.9439 - val_loss: 0.2477 - val_accuracy: 0.9479\n",
            "Epoch 24/30\n",
            "189/189 - 0s - loss: 0.2642 - accuracy: 0.9429 - val_loss: 0.2462 - val_accuracy: 0.9384\n",
            "Epoch 25/30\n",
            "189/189 - 0s - loss: 0.2633 - accuracy: 0.9423 - val_loss: 0.2453 - val_accuracy: 0.9479\n",
            "Epoch 26/30\n",
            "189/189 - 0s - loss: 0.2622 - accuracy: 0.9429 - val_loss: 0.2443 - val_accuracy: 0.9479\n",
            "Epoch 27/30\n",
            "189/189 - 0s - loss: 0.2613 - accuracy: 0.9439 - val_loss: 0.2438 - val_accuracy: 0.9479\n",
            "Epoch 28/30\n",
            "189/189 - 0s - loss: 0.2605 - accuracy: 0.9444 - val_loss: 0.2429 - val_accuracy: 0.9479\n",
            "Epoch 29/30\n",
            "189/189 - 0s - loss: 0.2597 - accuracy: 0.9439 - val_loss: 0.2424 - val_accuracy: 0.9479\n",
            "Epoch 30/30\n",
            "189/189 - 0s - loss: 0.2590 - accuracy: 0.9439 - val_loss: 0.2417 - val_accuracy: 0.9479\n"
          ],
          "name": "stdout"
        },
        {
          "output_type": "execute_result",
          "data": {
            "text/plain": [
              "<tensorflow.python.keras.callbacks.History at 0x7f374ed2a190>"
            ]
          },
          "metadata": {
            "tags": []
          },
          "execution_count": 20
        }
      ]
    },
    {
      "cell_type": "code",
      "metadata": {
        "id": "-1anx4m9sGVL"
      },
      "source": [
        "model.fit(x=scaled_train_samples,y=train_labels\n",
        "          ,validation_split=0.1,batch_size=10,epochs=30,\n",
        "          shuffle=True,verbose=2)\n"
      ],
      "execution_count": null,
      "outputs": []
    },
    {
      "cell_type": "code",
      "metadata": {
        "id": "AdKBfKSlxb7Q"
      },
      "source": [
        "#test\n",
        "test_labels=[]\n",
        "test_samples=[]"
      ],
      "execution_count": 21,
      "outputs": []
    },
    {
      "cell_type": "code",
      "metadata": {
        "id": "oXr-dhfjxebQ"
      },
      "source": [
        "for i in range(50):\n",
        "  r_younger=randint(13,64)\n",
        "  test_samples.append(r_younger)\n",
        "  test_labels.append(1)\n",
        "\n",
        "  r_older=randint(65,100)\n",
        "  test_samples.append(r_older)\n",
        "  test_labels.append(0)\n",
        "\n",
        "for i in range(1000):\n",
        "  r_younger=randint(13,64)\n",
        "  test_samples.append(r_younger)\n",
        "  test_labels.append(0)\n",
        "\n",
        "  r_older=randint(65,100)\n",
        "  test_samples.append(r_older)\n",
        "  test_labels.append(1)"
      ],
      "execution_count": 22,
      "outputs": []
    },
    {
      "cell_type": "code",
      "metadata": {
        "id": "1NJlnc2SxniY"
      },
      "source": [
        "test_labels=np.array(test_labels)\n",
        "test_samples=np.array(test_samples)\n",
        "test_labels, test_samples=shuffle(test_labels,test_samples)"
      ],
      "execution_count": 25,
      "outputs": []
    },
    {
      "cell_type": "code",
      "metadata": {
        "id": "9hiXYpnqxoDP"
      },
      "source": [
        "scaled_test_samples =scaler.fit_transform(test_samples.reshape(-1,1))"
      ],
      "execution_count": 26,
      "outputs": []
    },
    {
      "cell_type": "code",
      "metadata": {
        "id": "deNrEbecyaYg"
      },
      "source": [
        "y_pred=model.predict(x=scaled_test_samples,batch_size=10,verbose=0)"
      ],
      "execution_count": 27,
      "outputs": []
    },
    {
      "cell_type": "code",
      "metadata": {
        "id": "v-WlWUgNyygw"
      },
      "source": [
        "for i in y_pred:\n",
        "  print(i)"
      ],
      "execution_count": null,
      "outputs": []
    },
    {
      "cell_type": "code",
      "metadata": {
        "id": "5EJeLDiOy4G7"
      },
      "source": [
        "rounded_prediction=np.argmax(y_pred,axis=-1)"
      ],
      "execution_count": 30,
      "outputs": []
    },
    {
      "cell_type": "code",
      "metadata": {
        "id": "zMFAIHlOzQPy"
      },
      "source": [
        "#confusion matrix\n",
        "from sklearn.metrics import confusion_matrix\n",
        "import itertools\n",
        "import matplotlib.pyplot as plt\n",
        "from sklearn.metrics import plot_confusion_matrix"
      ],
      "execution_count": 33,
      "outputs": []
    },
    {
      "cell_type": "code",
      "metadata": {
        "id": "gWXwE02C4swB"
      },
      "source": [
        ""
      ],
      "execution_count": null,
      "outputs": []
    },
    {
      "cell_type": "code",
      "metadata": {
        "id": "QL6luow30qZ3"
      },
      "source": [
        "cm=confusion_matrix(y_true=test_labels,y_pred=rounded_prediction)"
      ],
      "execution_count": 34,
      "outputs": []
    },
    {
      "cell_type": "code",
      "metadata": {
        "id": "cm4ys4ZM0zK7"
      },
      "source": [
        ""
      ],
      "execution_count": null,
      "outputs": []
    },
    {
      "cell_type": "code",
      "metadata": {
        "id": "GXKsjCsz1b1J"
      },
      "source": [
        ""
      ],
      "execution_count": null,
      "outputs": []
    }
  ]
}